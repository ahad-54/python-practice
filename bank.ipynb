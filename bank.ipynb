{
  "cells": [
    {
      "cell_type": "markdown",
      "metadata": {
        "id": "view-in-github",
        "colab_type": "text"
      },
      "source": [
        "<a href=\"https://colab.research.google.com/github/ahad-54/python-practice/blob/main/bank.ipynb\" target=\"_parent\"><img src=\"https://colab.research.google.com/assets/colab-badge.svg\" alt=\"Open In Colab\"/></a>"
      ]
    },
    {
      "cell_type": "code",
      "execution_count": 4,
      "metadata": {
        "colab": {
          "base_uri": "https://localhost:8080/"
        },
        "id": "1mBKR7TC7qnb",
        "outputId": "782fe518-8347-48f5-ed52-dc5d0805a867"
      },
      "outputs": [
        {
          "output_type": "stream",
          "name": "stdout",
          "text": [
            "Greeting: hello\n",
            "$0\n"
          ]
        }
      ],
      "source": [
        "greeting = input(\"Greeting: \")\n",
        "\n",
        "greeting = greeting.strip().lower()\n",
        "\n",
        "if greeting.startswith(\"hello\"):\n",
        "    print(\"$0\")\n",
        "elif greeting.startswith(\"h\"):\n",
        "    print(\"$20\")\n",
        "else:\n",
        "    print(\"$100\")\n"
      ]
    },
    {
      "cell_type": "code",
      "execution_count": null,
      "metadata": {
        "id": "VoS4YxnEzCN3"
      },
      "outputs": [],
      "source": []
    }
  ],
  "metadata": {
    "colab": {
      "provenance": [],
      "authorship_tag": "ABX9TyOcDFq2nDTYe0UQbiOmupxO",
      "include_colab_link": true
    },
    "kernelspec": {
      "display_name": "Python 3",
      "name": "python3"
    },
    "language_info": {
      "name": "python"
    }
  },
  "nbformat": 4,
  "nbformat_minor": 0
}