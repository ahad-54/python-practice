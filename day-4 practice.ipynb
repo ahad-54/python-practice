{
  "nbformat": 4,
  "nbformat_minor": 0,
  "metadata": {
    "colab": {
      "provenance": [],
      "authorship_tag": "ABX9TyMTkeh5ief8eDSCd/uJ7t2e",
      "include_colab_link": true
    },
    "kernelspec": {
      "name": "python3",
      "display_name": "Python 3"
    },
    "language_info": {
      "name": "python"
    }
  },
  "cells": [
    {
      "cell_type": "markdown",
      "metadata": {
        "id": "view-in-github",
        "colab_type": "text"
      },
      "source": [
        "<a href=\"https://colab.research.google.com/github/ahad-54/python-practice/blob/main/day-4%20practice.ipynb\" target=\"_parent\"><img src=\"https://colab.research.google.com/assets/colab-badge.svg\" alt=\"Open In Colab\"/></a>"
      ]
    },
    {
      "cell_type": "code",
      "execution_count": 12,
      "metadata": {
        "colab": {
          "base_uri": "https://localhost:8080/"
        },
        "id": "gOsMf5VZvkym",
        "outputId": "0d6caf75-26b2-4168-c815-325bbc4d969a"
      },
      "outputs": [
        {
          "output_type": "stream",
          "name": "stdout",
          "text": [
            "Enter your name: Ali\n",
            "Khan\n"
          ]
        }
      ],
      "source": [
        "name = input(\"Enter your name: \")\n",
        "\n",
        "match name:\n",
        "    case \"Ali\" | \"Abdullah\" |\"Hamid\":\n",
        "        print(\"Khan\")\n",
        "    case \"Mobeen\":\n",
        "        print(\"zaffar\")\n",
        "    case \"Abdul\":\n",
        "        print(\"Ahad\")\n",
        "    case _ :\n",
        "        print(\"none\")"
      ]
    }
  ]
}