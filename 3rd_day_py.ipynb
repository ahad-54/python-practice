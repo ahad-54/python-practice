{
  "nbformat": 4,
  "nbformat_minor": 0,
  "metadata": {
    "colab": {
      "provenance": [],
      "authorship_tag": "ABX9TyPgQ/iABQZ0oHtc8wme1kaW",
      "include_colab_link": true
    },
    "kernelspec": {
      "name": "python3",
      "display_name": "Python 3"
    },
    "language_info": {
      "name": "python"
    }
  },
  "cells": [
    {
      "cell_type": "markdown",
      "metadata": {
        "id": "view-in-github",
        "colab_type": "text"
      },
      "source": [
        "<a href=\"https://colab.research.google.com/github/ahad-54/python-practice/blob/main/3rd_day_py.ipynb\" target=\"_parent\"><img src=\"https://colab.research.google.com/assets/colab-badge.svg\" alt=\"Open In Colab\"/></a>"
      ]
    },
    {
      "cell_type": "code",
      "execution_count": 27,
      "metadata": {
        "colab": {
          "base_uri": "https://localhost:8080/"
        },
        "id": "1mBKR7TC7qnb",
        "outputId": "73d6f5e5-f159-4dff-fff2-05f61d479329"
      },
      "outputs": [
        {
          "output_type": "stream",
          "name": "stdout",
          "text": [
            "x is:4\n",
            "Even\n"
          ]
        }
      ],
      "source": [
        "x = int(input(\"x is:\"))\n",
        "if x % 2 == 0:\n",
        "        print(\"Even\")\n",
        "else:\n",
        "        print(\"Odd\")\n",
        "\n",
        "\n"
      ]
    },
    {
      "cell_type": "code",
      "source": [],
      "metadata": {
        "id": "VoS4YxnEzCN3"
      },
      "execution_count": null,
      "outputs": []
    }
  ]
}